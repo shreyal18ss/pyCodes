{
  "nbformat": 4,
  "nbformat_minor": 0,
  "metadata": {
    "colab": {
      "name": "SVM",
      "provenance": [],
      "authorship_tag": "ABX9TyNTM3vO3RRHd37SfnrfEKzt",
      "include_colab_link": true
    },
    "kernelspec": {
      "name": "python3",
      "display_name": "Python 3"
    }
  },
  "cells": [
    {
      "cell_type": "markdown",
      "metadata": {
        "id": "view-in-github",
        "colab_type": "text"
      },
      "source": [
        "<a href=\"https://colab.research.google.com/github/shreyal18ss/pyCodes/blob/master/SVM.ipynb\" target=\"_parent\"><img src=\"https://colab.research.google.com/assets/colab-badge.svg\" alt=\"Open In Colab\"/></a>"
      ]
    },
    {
      "cell_type": "code",
      "metadata": {
        "id": "vOceV23J7SGZ",
        "colab_type": "code",
        "colab": {}
      },
      "source": [
        "# SVM can distinguish the classes in a higher dimensional space.\n",
        "\n",
        "# SVM algorithms are memory efficient.\n",
        "\n",
        "# SVMs are versatile, and a different kernel can be used by a decision function."
      ],
      "execution_count": 0,
      "outputs": []
    },
    {
      "cell_type": "code",
      "metadata": {
        "id": "C_djffzv7x5u",
        "colab_type": "code",
        "colab": {}
      },
      "source": [
        "# SVMs do not perform well on high dimensional data with many samples.\n",
        "\n",
        "# SVMs work better only with Preprocessed data.\n",
        "\n",
        "# They are harder to visualize."
      ],
      "execution_count": 0,
      "outputs": []
    },
    {
      "cell_type": "code",
      "metadata": {
        "id": "5qMZuyAI70Z3",
        "colab_type": "code",
        "colab": {
          "base_uri": "https://localhost:8080/",
          "height": 52
        },
        "outputId": "296431bf-801e-465e-e324-23c637399a18"
      },
      "source": [
        "import sklearn.datasets as datasets\n",
        "\n",
        "from sklearn.model_selection import train_test_split\n",
        "\n",
        "\n",
        "cancer = datasets.load_breast_cancer()  # Loading the data set\n",
        "X_train, X_test, Y_train, Y_test = train_test_split(cancer.data, cancer.target,\n",
        "           stratify=cancer.target,                  random_state=30)\n",
        "print(X_train.shape)\n",
        "print(X_test.shape)\n"
      ],
      "execution_count": 13,
      "outputs": [
        {
          "output_type": "stream",
          "text": [
            "(426, 30)\n",
            "(143, 30)\n"
          ],
          "name": "stdout"
        }
      ]
    },
    {
      "cell_type": "code",
      "metadata": {
        "id": "AUwLd1FI78ZU",
        "colab_type": "code",
        "colab": {
          "base_uri": "https://localhost:8080/",
          "height": 52
        },
        "outputId": "04b6da6c-3e2f-4634-c460-2fc6a06614e9"
      },
      "source": [
        "from sklearn.svm import SVC\n",
        "\n",
        "svm_classifier = SVC()\n",
        "\n",
        "svm_classifier = svm_classifier.fit(X_train, Y_train) \n",
        "\n",
        "print('Accuracy of Train Data :', svm_classifier.score(X_train,Y_train))\n",
        "\n",
        "print('Accuracy of Test Data :', svm_classifier.score(X_test,Y_test))"
      ],
      "execution_count": 14,
      "outputs": [
        {
          "output_type": "stream",
          "text": [
            "Accuracy of Train Data : 0.9131455399061033\n",
            "Accuracy of Test Data : 0.8951048951048951\n"
          ],
          "name": "stdout"
        }
      ]
    },
    {
      "cell_type": "code",
      "metadata": {
        "id": "mwUSf_zp8J9G",
        "colab_type": "code",
        "colab": {
          "base_uri": "https://localhost:8080/",
          "height": 52
        },
        "outputId": "d182ea79-ba0d-487d-a3cd-ff10414fbc50"
      },
      "source": [
        "import sklearn.preprocessing as preprocessing\n",
        "\n",
        "standardizer = preprocessing.StandardScaler()\n",
        "standardizer = standardizer.fit(cancer.data)\n",
        "cancer_standardized = standardizer.transform(cancer.data)\n",
        "\n",
        "svm_classifier = SVC()\n",
        "\n",
        "svm_classifier = svm_classifier.fit(X_train, Y_train) \n",
        "print('Accuracy of Train Data :', svm_classifier.score(X_train,Y_train))\n",
        "\n",
        "print('Accuracy of Test Data :', svm_classifier.score(X_test,Y_test))"
      ],
      "execution_count": 15,
      "outputs": [
        {
          "output_type": "stream",
          "text": [
            "Accuracy of Train Data : 0.9131455399061033\n",
            "Accuracy of Test Data : 0.8951048951048951\n"
          ],
          "name": "stdout"
        }
      ]
    },
    {
      "cell_type": "code",
      "metadata": {
        "id": "E9KsWqWT8UJ_",
        "colab_type": "code",
        "colab": {
          "base_uri": "https://localhost:8080/",
          "height": 191
        },
        "outputId": "76d72af0-6f26-4ca9-8d93-3cc8f5c56332"
      },
      "source": [
        "from sklearn import metrics\n",
        "\n",
        "Y_pred = svm_classifier.predict(X_test)\n",
        "\n",
        "print('Classification report : \\n',metrics.classification_report(Y_test, Y_pred))"
      ],
      "execution_count": 16,
      "outputs": [
        {
          "output_type": "stream",
          "text": [
            "Classification report : \n",
            "               precision    recall  f1-score   support\n",
            "\n",
            "           0       1.00      0.72      0.84        53\n",
            "           1       0.86      1.00      0.92        90\n",
            "\n",
            "    accuracy                           0.90       143\n",
            "   macro avg       0.93      0.86      0.88       143\n",
            "weighted avg       0.91      0.90      0.89       143\n",
            "\n"
          ],
          "name": "stdout"
        }
      ]
    },
    {
      "cell_type": "code",
      "metadata": {
        "id": "-1wBEuvz8lCJ",
        "colab_type": "code",
        "colab": {}
      },
      "source": [
        "#Hands-ons"
      ],
      "execution_count": 0,
      "outputs": []
    },
    {
      "cell_type": "code",
      "metadata": {
        "id": "Ma0gEBcH8t9k",
        "colab_type": "code",
        "colab": {
          "base_uri": "https://localhost:8080/",
          "height": 52
        },
        "outputId": "c2ba23f0-2f54-49d6-f207-f30178b668f7"
      },
      "source": [
        "import sklearn.datasets as datasets\n",
        "\n",
        "from sklearn.model_selection import train_test_split\n",
        "\n",
        "\n",
        "digits = datasets.load_digits()  # Loading the data set\n",
        "\n",
        "X_train, X_test, Y_train, Y_test = train_test_split(digits.data, digits.target,\n",
        "           stratify=digits.target,                  random_state=30)\n",
        "print(X_train.shape)\n",
        "print(X_test.shape)\n"
      ],
      "execution_count": 31,
      "outputs": [
        {
          "output_type": "stream",
          "text": [
            "(1347, 64)\n",
            "(450, 64)\n"
          ],
          "name": "stdout"
        }
      ]
    },
    {
      "cell_type": "code",
      "metadata": {
        "id": "dIQ2G_Rr9IYC",
        "colab_type": "code",
        "colab": {
          "base_uri": "https://localhost:8080/",
          "height": 52
        },
        "outputId": "8b606ba1-b255-41c4-9170-cdbd2715cef5"
      },
      "source": [
        "from sklearn.svm import SVC\n",
        "\n",
        "svm_classifier = SVC()\n",
        "\n",
        "svm_classifier = svm_classifier.fit(X_train, Y_train) \n",
        "\n",
        "print('Accuracy of Train Data :', svm_classifier.score(X_train,Y_train))\n",
        "\n",
        "print('Accuracy of Test Data :', svm_classifier.score(X_test,Y_test))"
      ],
      "execution_count": 32,
      "outputs": [
        {
          "output_type": "stream",
          "text": [
            "Accuracy of Train Data : 0.9962880475129918\n",
            "Accuracy of Test Data : 0.9822222222222222\n"
          ],
          "name": "stdout"
        }
      ]
    },
    {
      "cell_type": "code",
      "metadata": {
        "id": "xGNfbHbA-Jn9",
        "colab_type": "code",
        "colab": {
          "base_uri": "https://localhost:8080/",
          "height": 52
        },
        "outputId": "70cf9405-d8f5-45bf-fe1f-11a2d3788937"
      },
      "source": [
        "import sklearn.preprocessing as preprocessing\n",
        "\n",
        "standardizer = preprocessing.StandardScaler()\n",
        "standardizer = standardizer.fit(digits.data)\n",
        "digits_standardized = standardizer.transform(digits.data)\n",
        "\n",
        "X_train, X_test, Y_train, Y_test = train_test_split(digits_standardized, digits.target,\n",
        "           stratify=digits.target,                  random_state=30)\n",
        "svm_classifier = SVC()\n",
        "\n",
        "svm_clf2 = svm_classifier.fit(X_train, Y_train) \n",
        "print('Accuracy of Train Data :', svm_clf2.score(X_train,Y_train))\n",
        "\n",
        "print('Accuracy of Test Data :', svm_clf2.score(X_test,Y_test))"
      ],
      "execution_count": 38,
      "outputs": [
        {
          "output_type": "stream",
          "text": [
            "Accuracy of Train Data : 0.9962880475129918\n",
            "Accuracy of Test Data : 0.9733333333333334\n"
          ],
          "name": "stdout"
        }
      ]
    },
    {
      "cell_type": "code",
      "metadata": {
        "id": "niYgAHPX-bbL",
        "colab_type": "code",
        "colab": {}
      },
      "source": [
        ""
      ],
      "execution_count": 0,
      "outputs": []
    }
  ]
}