{
  "nbformat": 4,
  "nbformat_minor": 0,
  "metadata": {
    "colab": {
      "name": "Clustering",
      "provenance": [],
      "authorship_tag": "ABX9TyMf9TdCDvw7gSttojC3ugub",
      "include_colab_link": true
    },
    "kernelspec": {
      "name": "python3",
      "display_name": "Python 3"
    }
  },
  "cells": [
    {
      "cell_type": "markdown",
      "metadata": {
        "id": "view-in-github",
        "colab_type": "text"
      },
      "source": [
        "<a href=\"https://colab.research.google.com/github/shreyal18ss/pyCodes/blob/master/Clustering.ipynb\" target=\"_parent\"><img src=\"https://colab.research.google.com/assets/colab-badge.svg\" alt=\"Open In Colab\"/></a>"
      ]
    },
    {
      "cell_type": "code",
      "metadata": {
        "id": "xUU6WU0gBHwP",
        "colab_type": "code",
        "colab": {}
      },
      "source": [
        "# Clustering is one of the unsupervised learning technique.\n",
        "\n",
        "# The technique is typically used to group data points into clusters based on a specific algorithm.\n",
        "\n",
        "# Major clustering algorithms that can be implemented using scikit-learn are:\n",
        "\n",
        "# K-means Clustering\n",
        "# Agglomerative clustering\n",
        "# DBSCAN clustering\n",
        "# Mean-shift clustering\n",
        "# Affinity propagation\n",
        "# Spectral clustering"
      ],
      "execution_count": 0,
      "outputs": []
    },
    {
      "cell_type": "code",
      "metadata": {
        "id": "p-qwNsVBBLCm",
        "colab_type": "code",
        "colab": {}
      },
      "source": [
        "# K-Means Clustering\n",
        "# In K-means Clustering entire data set is grouped into k clusters.\n",
        "\n",
        "# Steps involved are:\n",
        "\n",
        "# k centroids are chosen randomly.\n",
        "# The distance of each data point from k centroids is calculated. A data point is assigned to the nearest cluster.\n",
        "# Centroids of k clusters are recomputed.\n",
        "# The above steps are iterated till the number of data points a cluster reach convergence.\n",
        "# KMeans from sklearn.cluster can be used for K-means clustering."
      ],
      "execution_count": 0,
      "outputs": []
    },
    {
      "cell_type": "code",
      "metadata": {
        "id": "_DPosqTZBUHu",
        "colab_type": "code",
        "colab": {}
      },
      "source": [
        "# Agglomerative Hierarchical Clustering\n",
        "# Agglomerative Hierarchical Clustering is a bottom-up approach.\n",
        "\n",
        "# Steps involved are:\n",
        "\n",
        "# Each data point is treated as a single cluster at the beginning.\n",
        "\n",
        "# The distance between each cluster is computed, and the two nearest clusters are merged together.\n",
        "\n",
        "# The above step is iterated till a single cluster is formed.\n",
        "\n",
        "# AgglomerativeClustering from sklearn.cluster can be used for achieving this.\n",
        "\n",
        "# Merging of two clusters can be any of the following linkage type: ward, complete or average."
      ],
      "execution_count": 0,
      "outputs": []
    },
    {
      "cell_type": "code",
      "metadata": {
        "id": "z2lZhRK9BZpf",
        "colab_type": "code",
        "colab": {}
      },
      "source": [
        "# K-Means Clustering\n",
        "# In K-means Clustering entire data set is grouped into k clusters.\n",
        "\n",
        "# Steps involved are:\n",
        "\n",
        "# k centroids are chosen randomly.\n",
        "# The distance of each data point from k centroids is calculated. A data point is assigned to the nearest cluster.\n",
        "# Centroids of k clusters are recomputed.\n",
        "# The above steps are iterated till the number of data points a cluster reach convergence.\n",
        "# KMeans from sklearn.cluster can be used for K-means clustering."
      ],
      "execution_count": 0,
      "outputs": []
    },
    {
      "cell_type": "code",
      "metadata": {
        "id": "OI0xunH3QHGk",
        "colab_type": "code",
        "colab": {}
      },
      "source": [
        "# Agglomerative Hierarchical Clustering\n",
        "# Agglomerative Hierarchical Clustering is a bottom-up approach.\n",
        "\n",
        "# Steps involved are:\n",
        "\n",
        "# Each data point is treated as a single cluster at the beginning.\n",
        "\n",
        "# The distance between each cluster is computed, and the two nearest clusters are merged together.\n",
        "\n",
        "# The above step is iterated till a single cluster is formed.\n",
        "\n",
        "# AgglomerativeClustering from sklearn.cluster can be used for achieving this.\n",
        "\n",
        "# Merging of two clusters can be any of the following linkage type: ward, complete or average.\n",
        "\n"
      ],
      "execution_count": 0,
      "outputs": []
    },
    {
      "cell_type": "code",
      "metadata": {
        "id": "EtZYghjCNP-l",
        "colab_type": "code",
        "outputId": "f5fff870-c33c-4821-d40c-54d301d01e5e",
        "colab": {
          "base_uri": "https://localhost:8080/",
          "height": 173
        }
      },
      "source": [
        "import sklearn.datasets as datasets\n",
        "\n",
        "from sklearn.model_selection import train_test_split\n",
        "\n",
        "\n",
        "cancer = datasets.load_breast_cancer()  # Loading the data set\n",
        "X_train, X_test, Y_train, Y_test = train_test_split(cancer.data, cancer.target,\n",
        "           stratify=cancer.target,                  random_state=30)\n",
        "print(X_train.shape)\n",
        "print(X_test.shape)\n",
        "from sklearn.cluster import KMeans\n",
        "\n",
        "kmeans_cluster = KMeans(n_clusters=2)\n",
        "\n",
        "kmeans_cluster = kmeans_cluster.fit(X_train) \n",
        "\n",
        "kmeans_cluster.predict(X_test)"
      ],
      "execution_count": 0,
      "outputs": [
        {
          "output_type": "stream",
          "text": [
            "(426, 30)\n",
            "(143, 30)\n"
          ],
          "name": "stdout"
        },
        {
          "output_type": "execute_result",
          "data": {
            "text/plain": [
              "array([0, 1, 0, 0, 0, 0, 1, 1, 0, 0, 0, 0, 1, 0, 0, 0, 0, 0, 0, 1, 1, 0,\n",
              "       0, 0, 0, 0, 0, 0, 0, 0, 0, 1, 0, 0, 1, 0, 0, 0, 0, 0, 0, 0, 0, 0,\n",
              "       0, 1, 1, 0, 0, 0, 0, 0, 0, 0, 0, 0, 0, 0, 0, 1, 1, 1, 0, 0, 1, 1,\n",
              "       0, 1, 0, 0, 0, 0, 0, 0, 0, 0, 0, 0, 0, 0, 1, 0, 0, 0, 0, 0, 0, 0,\n",
              "       0, 0, 0, 0, 0, 0, 0, 0, 0, 0, 0, 0, 0, 0, 0, 0, 0, 0, 0, 0, 0, 0,\n",
              "       1, 0, 0, 1, 0, 0, 0, 1, 1, 1, 0, 0, 0, 1, 0, 1, 0, 0, 0, 0, 0, 0,\n",
              "       0, 0, 0, 0, 1, 0, 0, 0, 0, 0, 1], dtype=int32)"
            ]
          },
          "metadata": {
            "tags": []
          },
          "execution_count": 2
        }
      ]
    },
    {
      "cell_type": "code",
      "metadata": {
        "id": "eqAzf-2ZNTm6",
        "colab_type": "code",
        "outputId": "3e41be6b-ea29-46c8-ab4a-16bee2b58681",
        "colab": {
          "base_uri": "https://localhost:8080/",
          "height": 87
        }
      },
      "source": [
        "# A clustering algorithm is majorly evaluated using the following scores:\n",
        "\n",
        "# Homogeneity: Evaluates if each cluster contains only members of a single class.\n",
        "\n",
        "# Completeness: All members of a given class are assigned to the same cluster.\n",
        "\n",
        "# V-measure: Harmonic mean of Homogeneity and Completeness.\n",
        "\n",
        "# Adjusted Rand index: Measures similarity of two assignments.\n",
        "from sklearn import metrics\n",
        "\n",
        "print(metrics.homogeneity_score(kmeans_cluster.predict(X_test), Y_test))\n",
        "\n",
        "print(metrics.completeness_score(kmeans_cluster.predict(X_test), Y_test))\n",
        "\n",
        "print(metrics.v_measure_score(kmeans_cluster.predict(X_test), Y_test))\n",
        "\n",
        "print(metrics.adjusted_rand_score(kmeans_cluster.predict(X_test), Y_test))"
      ],
      "execution_count": 0,
      "outputs": [
        {
          "output_type": "stream",
          "text": [
            "0.45831378978234116\n",
            "0.32960404939564386\n",
            "0.38344627699690814\n",
            "0.36774079484865124\n"
          ],
          "name": "stdout"
        }
      ]
    },
    {
      "cell_type": "code",
      "metadata": {
        "id": "TRhgQIb2OUSJ",
        "colab_type": "code",
        "colab": {}
      },
      "source": [
        "#Hands-on"
      ],
      "execution_count": 0,
      "outputs": []
    },
    {
      "cell_type": "code",
      "metadata": {
        "id": "fozUJr9xOeUF",
        "colab_type": "code",
        "outputId": "19a27555-1c58-40d1-d94a-0341010464e5",
        "colab": {
          "base_uri": "https://localhost:8080/",
          "height": 35
        }
      },
      "source": [
        "import sklearn.datasets as datasets\n",
        "from sklearn.model_selection import train_test_split\n",
        "from sklearn import metrics\n",
        "\n",
        "iris = datasets.load_iris()  # Loading the data set\n",
        "X_train, X_test, Y_train, Y_test = train_test_split(iris.data, iris.target)\n",
        "# print(X_train.shape)\n",
        "# print(X_test.shape)\n",
        "from sklearn.cluster import KMeans\n",
        "\n",
        "km_cls = KMeans(n_clusters=3)\n",
        "\n",
        "km_cls = km_cls.fit(X_train) \n",
        "\n",
        "km_cls.predict(X_test)\n",
        "print(metrics.homogeneity_score(km_cls.predict(X_test), Y_test))\n"
      ],
      "execution_count": 0,
      "outputs": [
        {
          "output_type": "stream",
          "text": [
            "0.7913821541467021\n"
          ],
          "name": "stdout"
        }
      ]
    },
    {
      "cell_type": "code",
      "metadata": {
        "id": "AEyRn4gYO8_B",
        "colab_type": "code",
        "outputId": "1942683e-f0d6-4ac0-f2c1-cc8c30c0daa2",
        "colab": {
          "base_uri": "https://localhost:8080/",
          "height": 35
        }
      },
      "source": [
        "from sklearn.cluster import AgglomerativeClustering \n",
        "agg_cls = AgglomerativeClustering(n_clusters = 3)\n",
        "agg_cls = agg_cls.fit(X_train) \n",
        "\n",
        "agg_cls.fit_predict(X_test)\n",
        "print(metrics.homogeneity_score(agg_cls.fit_predict(X_test), Y_test))\n"
      ],
      "execution_count": 0,
      "outputs": [
        {
          "output_type": "stream",
          "text": [
            "0.8297015323114261\n"
          ],
          "name": "stdout"
        }
      ]
    },
    {
      "cell_type": "code",
      "metadata": {
        "id": "6w6-Xr46RMed",
        "colab_type": "code",
        "outputId": "bff3351e-b1f3-4674-9ebb-0a4ed7e1ed31",
        "colab": {
          "base_uri": "https://localhost:8080/",
          "height": 89
        }
      },
      "source": [
        "from sklearn.cluster import AffinityPropagation \n",
        "from sklearn.datasets.samples_generator import make_blobs \n",
        "af_cls=AffinityPropagation().fit(X_train) \n",
        "\n",
        "af_cls.fit_predict(X_test)\n",
        "print(metrics.homogeneity_score(af_cls.fit_predict(X_test), Y_test))\n"
      ],
      "execution_count": 0,
      "outputs": [
        {
          "output_type": "stream",
          "text": [
            "0.8356757861416502\n"
          ],
          "name": "stdout"
        },
        {
          "output_type": "stream",
          "text": [
            "/usr/local/lib/python3.6/dist-packages/sklearn/utils/deprecation.py:144: FutureWarning: The sklearn.datasets.samples_generator module is  deprecated in version 0.22 and will be removed in version 0.24. The corresponding classes / functions should instead be imported from sklearn.datasets. Anything that cannot be imported from sklearn.datasets is now part of the private API.\n",
            "  warnings.warn(message, FutureWarning)\n"
          ],
          "name": "stderr"
        }
      ]
    },
    {
      "cell_type": "code",
      "metadata": {
        "id": "nTuAlLn9SO1t",
        "colab_type": "code",
        "outputId": "cce379b4-c7de-487a-ebbb-13eb9201ca2d",
        "colab": {
          "base_uri": "https://localhost:8080/",
          "height": 35
        }
      },
      "source": [
        "import sklearn.preprocessing as preprocessing\n",
        "\n",
        "regions = ['HYD', 'CHN', 'MUM', 'HYD', 'KOL', 'CHN']\n",
        "print(preprocessing.LabelEncoder().fit(regions).transform(regions))"
      ],
      "execution_count": 0,
      "outputs": [
        {
          "output_type": "stream",
          "text": [
            "[1 0 3 1 2 0]\n"
          ],
          "name": "stdout"
        }
      ]
    },
    {
      "cell_type": "code",
      "metadata": {
        "id": "M74I9_2HS0vH",
        "colab_type": "code",
        "colab": {}
      },
      "source": [
        ""
      ],
      "execution_count": 0,
      "outputs": []
    }
  ]
}