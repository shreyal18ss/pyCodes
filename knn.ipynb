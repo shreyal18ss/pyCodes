{
  "nbformat": 4,
  "nbformat_minor": 0,
  "metadata": {
    "colab": {
      "name": "Untitled1.ipynb",
      "provenance": [],
      "collapsed_sections": [],
      "authorship_tag": "ABX9TyN3ccdne1S/FIqU6DfL+Pd5",
      "include_colab_link": true
    },
    "kernelspec": {
      "name": "python3",
      "display_name": "Python 3"
    }
  },
  "cells": [
    {
      "cell_type": "markdown",
      "metadata": {
        "id": "view-in-github",
        "colab_type": "text"
      },
      "source": [
        "<a href=\"https://colab.research.google.com/github/shreyal18ss/pyCodes/blob/master/knn.ipynb\" target=\"_parent\"><img src=\"https://colab.research.google.com/assets/colab-badge.svg\" alt=\"Open In Colab\"/></a>"
      ]
    },
    {
      "cell_type": "code",
      "metadata": {
        "id": "jKgm9nkY_Ngs",
        "colab_type": "code",
        "colab": {
          "base_uri": "https://localhost:8080/",
          "height": 87
        },
        "outputId": "e7feecc4-63f6-4be8-861c-5420876362b7"
      },
      "source": [
        "import sklearn.preprocessing as preprocessing\n",
        "\n",
        "x = [[7.8], [1.3], [4.5], [0.9]]\n",
        "print(preprocessing.Binarizer().fit(x).transform(x))"
      ],
      "execution_count": 1,
      "outputs": [
        {
          "output_type": "stream",
          "text": [
            "[[1.]\n",
            " [1.]\n",
            " [1.]\n",
            " [1.]]\n"
          ],
          "name": "stdout"
        }
      ]
    },
    {
      "cell_type": "code",
      "metadata": {
        "id": "SbBmCJke_ZEp",
        "colab_type": "code",
        "colab": {
          "base_uri": "https://localhost:8080/",
          "height": 35
        },
        "outputId": "ff07d7eb-8841-41a8-92ec-4e7a42148dee"
      },
      "source": [
        "import sklearn.preprocessing as preprocessing\n",
        "\n",
        "x = [[7.8], [1.3], [4.5], [0.9]]\n",
        "print(preprocessing.Binarizer().fit(x).transform(x).shape)"
      ],
      "execution_count": 2,
      "outputs": [
        {
          "output_type": "stream",
          "text": [
            "(4, 1)\n"
          ],
          "name": "stdout"
        }
      ]
    },
    {
      "cell_type": "code",
      "metadata": {
        "id": "g8BrprNv_hC9",
        "colab_type": "code",
        "colab": {}
      },
      "source": [
        "import sklearn.datasets as datasets\n",
        "\n",
        "from sklearn.model_selection import train_test_split\n",
        "\n",
        "from sklearn.neighbors import KNeighborsClassifier\n",
        "\n",
        "cancer = datasets.load_breast_cancer()  # Loading the data set"
      ],
      "execution_count": 0,
      "outputs": []
    },
    {
      "cell_type": "code",
      "metadata": {
        "id": "LPpGxEXRZPPY",
        "colab_type": "code",
        "colab": {}
      },
      "source": [
        "X_train, X_test, Y_train, Y_test = train_test_split(cancer.data, cancer.target,\n",
        "           stratify=cancer.target,                  random_state=0)\n",
        "\n",
        "knn_classifier = KNeighborsClassifier()   \n",
        "\n",
        "knn_classifier = knn_classifier.fit(X_train, Y_train) "
      ],
      "execution_count": 0,
      "outputs": []
    },
    {
      "cell_type": "code",
      "metadata": {
        "id": "NY9ftLM2aILm",
        "colab_type": "code",
        "colab": {
          "base_uri": "https://localhost:8080/",
          "height": 52
        },
        "outputId": "e59a68a9-d3a7-4898-a3a3-21c72b9fe354"
      },
      "source": [
        "print('Accuracy of Train Data :', knn_classifier.score(X_train,Y_train))\n",
        "print('Accuracy of Test Data :', knn_classifier.score(X_test,Y_test))"
      ],
      "execution_count": 8,
      "outputs": [
        {
          "output_type": "stream",
          "text": [
            "Accuracy of Train Data : 0.9460093896713615\n",
            "Accuracy of Test Data : 0.916083916083916\n"
          ],
          "name": "stdout"
        }
      ]
    },
    {
      "cell_type": "code",
      "metadata": {
        "id": "MM40g4GEasGI",
        "colab_type": "code",
        "colab": {
          "base_uri": "https://localhost:8080/",
          "height": 52
        },
        "outputId": "db705030-5113-4662-9a83-f650c256e97d"
      },
      "source": [
        "import sklearn.datasets as datasets\n",
        "\n",
        "from sklearn.model_selection import train_test_split\n",
        "\n",
        "from sklearn.neighbors import KNeighborsClassifier\n",
        "\n",
        "iris = datasets.load_iris()  # Loading the data set\n",
        "X_train, X_test, Y_train, Y_test = train_test_split(iris.data, iris.target,\n",
        "           stratify=iris.target,                  random_state=30)\n",
        "print(X_train.shape)\n",
        "print(X_test.shape)"
      ],
      "execution_count": 10,
      "outputs": [
        {
          "output_type": "stream",
          "text": [
            "(112, 4)\n",
            "(38, 4)\n"
          ],
          "name": "stdout"
        }
      ]
    },
    {
      "cell_type": "code",
      "metadata": {
        "id": "BGSP60-4brVm",
        "colab_type": "code",
        "colab": {
          "base_uri": "https://localhost:8080/",
          "height": 52
        },
        "outputId": "a0445d12-1ded-4d11-d9d7-0f205c319a40"
      },
      "source": [
        "knn_classifier = KNeighborsClassifier()   \n",
        "\n",
        "knn_clf= knn_classifier.fit(X_train, Y_train) \n",
        "print('Accuracy of Train Data :', knn_clf.score(X_train,Y_train))\n",
        "print('Accuracy of Test Data :', knn_clf.score(X_test,Y_test))"
      ],
      "execution_count": 11,
      "outputs": [
        {
          "output_type": "stream",
          "text": [
            "Accuracy of Train Data : 0.9821428571428571\n",
            "Accuracy of Test Data : 0.9473684210526315\n"
          ],
          "name": "stdout"
        }
      ]
    },
    {
      "cell_type": "code",
      "metadata": {
        "id": "m6p-ABjictmg",
        "colab_type": "code",
        "colab": {
          "base_uri": "https://localhost:8080/",
          "height": 52
        },
        "outputId": "4c989025-440c-458f-96d4-5dc3ac8c456f"
      },
      "source": [
        "x = range(3, 11)\n",
        "max_n=0\n",
        "max_n_val=0\n",
        "for n in x:\n",
        "  knn=KNeighborsClassifier(n)   \n",
        "  knn.fit(X_train,Y_train)\n",
        "  knn.predict(X_test)\n",
        "  y=knn.score(X_test, Y_test)\n",
        "  # print(y)\n",
        "  if(y>max_n):\n",
        "    max_n=y\n",
        "    max_n_val=n\n",
        "print(max_n)\n",
        "print(n)\n"
      ],
      "execution_count": 26,
      "outputs": [
        {
          "output_type": "stream",
          "text": [
            "0.9736842105263158\n",
            "10\n"
          ],
          "name": "stdout"
        }
      ]
    },
    {
      "cell_type": "code",
      "metadata": {
        "id": "qaZmHDY6dUhE",
        "colab_type": "code",
        "colab": {}
      },
      "source": [
        ""
      ],
      "execution_count": 0,
      "outputs": []
    }
  ]
}