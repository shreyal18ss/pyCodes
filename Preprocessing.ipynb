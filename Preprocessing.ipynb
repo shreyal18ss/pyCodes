{
  "nbformat": 4,
  "nbformat_minor": 0,
  "metadata": {
    "colab": {
      "name": "Untitled0.ipynb",
      "provenance": [],
      "authorship_tag": "ABX9TyMOcl2qpjTAlPSiQAkfuF/U",
      "include_colab_link": true
    },
    "kernelspec": {
      "name": "python3",
      "display_name": "Python 3"
    }
  },
  "cells": [
    {
      "cell_type": "markdown",
      "metadata": {
        "id": "view-in-github",
        "colab_type": "text"
      },
      "source": [
        "<a href=\"https://colab.research.google.com/github/shreyal18ss/pyCodes/blob/master/Preprocessing.ipynb\" target=\"_parent\"><img src=\"https://colab.research.google.com/assets/colab-badge.svg\" alt=\"Open In Colab\"/></a>"
      ]
    },
    {
      "cell_type": "code",
      "metadata": {
        "id": "7INcbBMG0Dwe",
        "colab_type": "code",
        "colab": {}
      },
      "source": [
        "import pandas as pd"
      ],
      "execution_count": 0,
      "outputs": []
    },
    {
      "cell_type": "code",
      "metadata": {
        "id": "EO5KP1Zr0JqV",
        "colab_type": "code",
        "colab": {
          "base_uri": "https://localhost:8080/",
          "height": 35
        },
        "outputId": "5cb6ab0d-ebe6-4174-a4e4-d9152ae9ad3f"
      },
      "source": [
        "cancer_set=pd.read_csv('https://archive.ics.uci.edu/ml/machine-learning-databases/breast-cancer-wisconsin/wdbc.data',header = None)\n",
        "print(cancer_set.shape)\n"
      ],
      "execution_count": 3,
      "outputs": [
        {
          "output_type": "stream",
          "text": [
            "(569, 32)\n"
          ],
          "name": "stdout"
        }
      ]
    },
    {
      "cell_type": "code",
      "metadata": {
        "id": "e_2V_Ox-0jla",
        "colab_type": "code",
        "colab": {
          "base_uri": "https://localhost:8080/",
          "height": 260
        },
        "outputId": "4ed2c2f1-1a41-4938-bbea-87395aec9214"
      },
      "source": [
        "print(cancer_set.head)\n"
      ],
      "execution_count": 4,
      "outputs": [
        {
          "output_type": "stream",
          "text": [
            "<bound method NDFrame.head of            0  1      2      3   ...      28      29      30       31\n",
            "0      842302  M  17.99  10.38  ...  0.7119  0.2654  0.4601  0.11890\n",
            "1      842517  M  20.57  17.77  ...  0.2416  0.1860  0.2750  0.08902\n",
            "2    84300903  M  19.69  21.25  ...  0.4504  0.2430  0.3613  0.08758\n",
            "3    84348301  M  11.42  20.38  ...  0.6869  0.2575  0.6638  0.17300\n",
            "4    84358402  M  20.29  14.34  ...  0.4000  0.1625  0.2364  0.07678\n",
            "..        ... ..    ...    ...  ...     ...     ...     ...      ...\n",
            "564    926424  M  21.56  22.39  ...  0.4107  0.2216  0.2060  0.07115\n",
            "565    926682  M  20.13  28.25  ...  0.3215  0.1628  0.2572  0.06637\n",
            "566    926954  M  16.60  28.08  ...  0.3403  0.1418  0.2218  0.07820\n",
            "567    927241  M  20.60  29.33  ...  0.9387  0.2650  0.4087  0.12400\n",
            "568     92751  B   7.76  24.54  ...  0.0000  0.0000  0.2871  0.07039\n",
            "\n",
            "[569 rows x 32 columns]>\n"
          ],
          "name": "stdout"
        }
      ]
    },
    {
      "cell_type": "code",
      "metadata": {
        "id": "RCGTX6j70qZK",
        "colab_type": "code",
        "colab": {
          "base_uri": "https://localhost:8080/",
          "height": 52
        },
        "outputId": "bfbacbfe-ef72-43ea-fab5-1923f0ba0437"
      },
      "source": [
        "cancer_features = cancer_set.iloc[:,2:]\n",
        "\n",
        "print(cancer_features.shape)\n",
        "print(type(cancer_features))"
      ],
      "execution_count": 5,
      "outputs": [
        {
          "output_type": "stream",
          "text": [
            "(569, 30)\n",
            "<class 'pandas.core.frame.DataFrame'>\n"
          ],
          "name": "stdout"
        }
      ]
    },
    {
      "cell_type": "code",
      "metadata": {
        "id": "t9UOzFzU0wI6",
        "colab_type": "code",
        "colab": {
          "base_uri": "https://localhost:8080/",
          "height": 52
        },
        "outputId": "89ca6faf-98fb-47df-b596-7cfca0cac9e9"
      },
      "source": [
        "cancer_features = cancer_features.values\n",
        "print(type(cancer_features))\n",
        "print(cancer_features.shape)"
      ],
      "execution_count": 6,
      "outputs": [
        {
          "output_type": "stream",
          "text": [
            "<class 'numpy.ndarray'>\n",
            "(569, 30)\n"
          ],
          "name": "stdout"
        }
      ]
    },
    {
      "cell_type": "code",
      "metadata": {
        "id": "7Pf8shKL00_Y",
        "colab_type": "code",
        "colab": {}
      },
      "source": [
        "cancer_features_names = ['mean radius', \n",
        "'mean texture', 'mean perimeter', \n",
        "'mean area', 'mean smoothness', \n",
        "'mean compactness', 'mean concavity',\n",
        "'mean concave points', 'mean symmetry',\n",
        "'mean fractal dimension','radius error',\n",
        "'texture error','perimeter error',\n",
        "'area error', 'smoothness error',\n",
        "'compactness error','concavity error',\n",
        "'concave points error','symmetry error',\n",
        "'fractal dimension error','worst radius',\n",
        "'worst texture', 'worst perimeter', \n",
        "'worst area','worst smoothness', \n",
        "'worst compactness', 'worst concavity',\n",
        "'worst concave points','worst symmetry',\n",
        "'worst fractal dimension']"
      ],
      "execution_count": 0,
      "outputs": []
    },
    {
      "cell_type": "code",
      "metadata": {
        "id": "tS-xoOny04_D",
        "colab_type": "code",
        "colab": {
          "base_uri": "https://localhost:8080/",
          "height": 225
        },
        "outputId": "23aac5c1-c8f4-4ac1-ed65-51fa8fc29e3b"
      },
      "source": [
        "cancer_target = cancer_set.iloc[:, 1]\n",
        "cancer_target"
      ],
      "execution_count": 8,
      "outputs": [
        {
          "output_type": "execute_result",
          "data": {
            "text/plain": [
              "0      M\n",
              "1      M\n",
              "2      M\n",
              "3      M\n",
              "4      M\n",
              "      ..\n",
              "564    M\n",
              "565    M\n",
              "566    M\n",
              "567    M\n",
              "568    B\n",
              "Name: 1, Length: 569, dtype: object"
            ]
          },
          "metadata": {
            "tags": []
          },
          "execution_count": 8
        }
      ]
    },
    {
      "cell_type": "code",
      "metadata": {
        "id": "-PtfL3Tq0_q4",
        "colab_type": "code",
        "colab": {
          "base_uri": "https://localhost:8080/",
          "height": 468
        },
        "outputId": "89305d11-45a2-49a3-db43-310f5f4111ea"
      },
      "source": [
        "cancer_target = cancer_target.replace(['M', 'B'], [0, 1])\n",
        "# Converting to numpy array\n",
        "cancer_target = cancer_target.values\n",
        "cancer_target"
      ],
      "execution_count": 9,
      "outputs": [
        {
          "output_type": "execute_result",
          "data": {
            "text/plain": [
              "array([0, 0, 0, 0, 0, 0, 0, 0, 0, 0, 0, 0, 0, 0, 0, 0, 0, 0, 0, 1, 1, 1,\n",
              "       0, 0, 0, 0, 0, 0, 0, 0, 0, 0, 0, 0, 0, 0, 0, 1, 0, 0, 0, 0, 0, 0,\n",
              "       0, 0, 1, 0, 1, 1, 1, 1, 1, 0, 0, 1, 0, 0, 1, 1, 1, 1, 0, 1, 0, 0,\n",
              "       1, 1, 1, 1, 0, 1, 0, 0, 1, 0, 1, 0, 0, 1, 1, 1, 0, 0, 1, 0, 0, 0,\n",
              "       1, 1, 1, 0, 1, 1, 0, 0, 1, 1, 1, 0, 0, 1, 1, 1, 1, 0, 1, 1, 0, 1,\n",
              "       1, 1, 1, 1, 1, 1, 1, 0, 0, 0, 1, 0, 0, 1, 1, 1, 0, 0, 1, 0, 1, 0,\n",
              "       0, 1, 0, 0, 1, 1, 0, 1, 1, 0, 1, 1, 1, 1, 0, 1, 1, 1, 1, 1, 1, 1,\n",
              "       1, 1, 0, 1, 1, 1, 1, 0, 0, 1, 0, 1, 1, 0, 0, 1, 1, 0, 0, 1, 1, 1,\n",
              "       1, 0, 1, 1, 0, 0, 0, 1, 0, 1, 0, 1, 1, 1, 0, 1, 1, 0, 0, 1, 0, 0,\n",
              "       0, 0, 1, 0, 0, 0, 1, 0, 1, 0, 1, 1, 0, 1, 0, 0, 0, 0, 1, 1, 0, 0,\n",
              "       1, 1, 1, 0, 1, 1, 1, 1, 1, 0, 0, 1, 1, 0, 1, 1, 0, 0, 1, 0, 1, 1,\n",
              "       1, 1, 0, 1, 1, 1, 1, 1, 0, 1, 0, 0, 0, 0, 0, 0, 0, 0, 0, 0, 0, 0,\n",
              "       0, 0, 1, 1, 1, 1, 1, 1, 0, 1, 0, 1, 1, 0, 1, 1, 0, 1, 0, 0, 1, 1,\n",
              "       1, 1, 1, 1, 1, 1, 1, 1, 1, 1, 1, 0, 1, 1, 0, 1, 0, 1, 1, 1, 1, 1,\n",
              "       1, 1, 1, 1, 1, 1, 1, 1, 1, 0, 1, 1, 1, 0, 1, 0, 1, 1, 1, 1, 0, 0,\n",
              "       0, 1, 1, 1, 1, 0, 1, 0, 1, 0, 1, 1, 1, 0, 1, 1, 1, 1, 1, 1, 1, 0,\n",
              "       0, 0, 1, 1, 1, 1, 1, 1, 1, 1, 1, 1, 1, 0, 0, 1, 0, 0, 0, 1, 0, 0,\n",
              "       1, 1, 1, 1, 1, 0, 1, 1, 1, 1, 1, 0, 1, 1, 1, 0, 1, 1, 0, 0, 1, 1,\n",
              "       1, 1, 1, 1, 0, 1, 1, 1, 1, 1, 1, 1, 0, 1, 1, 1, 1, 1, 0, 1, 1, 0,\n",
              "       1, 1, 1, 1, 1, 1, 1, 1, 1, 1, 1, 1, 0, 1, 0, 0, 1, 0, 1, 1, 1, 1,\n",
              "       1, 0, 1, 1, 0, 1, 0, 1, 1, 0, 1, 0, 1, 1, 1, 1, 1, 1, 1, 1, 0, 0,\n",
              "       1, 1, 1, 1, 1, 1, 0, 1, 1, 1, 1, 1, 1, 1, 1, 1, 1, 0, 1, 1, 1, 1,\n",
              "       1, 1, 1, 0, 1, 0, 1, 1, 0, 1, 1, 1, 1, 1, 0, 0, 1, 0, 1, 0, 1, 1,\n",
              "       1, 1, 1, 0, 1, 1, 0, 1, 0, 1, 0, 0, 1, 1, 1, 0, 1, 1, 1, 1, 1, 1,\n",
              "       1, 1, 1, 1, 1, 0, 1, 0, 0, 1, 1, 1, 1, 1, 1, 1, 1, 1, 1, 1, 1, 1,\n",
              "       1, 1, 1, 1, 1, 1, 1, 1, 1, 1, 1, 1, 0, 0, 0, 0, 0, 0, 1])"
            ]
          },
          "metadata": {
            "tags": []
          },
          "execution_count": 9
        }
      ]
    },
    {
      "cell_type": "code",
      "metadata": {
        "id": "7hXX77xx1Hch",
        "colab_type": "code",
        "colab": {
          "base_uri": "https://localhost:8080/",
          "height": 191
        },
        "outputId": "ea31101b-72ce-4a4d-99bc-e9cc2260331c"
      },
      "source": [
        "import sklearn.datasets as datasets\n",
        "\n",
        "cancer = datasets.load_breast_cancer()\n",
        "print(cancer.data)\n",
        "print(type(cancer))\n",
        "print(cancer.data.shape)\n",
        "print(cancer.target.shape)"
      ],
      "execution_count": 10,
      "outputs": [
        {
          "output_type": "stream",
          "text": [
            "[[1.799e+01 1.038e+01 1.228e+02 ... 2.654e-01 4.601e-01 1.189e-01]\n",
            " [2.057e+01 1.777e+01 1.329e+02 ... 1.860e-01 2.750e-01 8.902e-02]\n",
            " [1.969e+01 2.125e+01 1.300e+02 ... 2.430e-01 3.613e-01 8.758e-02]\n",
            " ...\n",
            " [1.660e+01 2.808e+01 1.083e+02 ... 1.418e-01 2.218e-01 7.820e-02]\n",
            " [2.060e+01 2.933e+01 1.401e+02 ... 2.650e-01 4.087e-01 1.240e-01]\n",
            " [7.760e+00 2.454e+01 4.792e+01 ... 0.000e+00 2.871e-01 7.039e-02]]\n",
            "<class 'sklearn.utils.Bunch'>\n",
            "(569, 30)\n",
            "(569,)\n"
          ],
          "name": "stdout"
        }
      ]
    },
    {
      "cell_type": "code",
      "metadata": {
        "id": "Vim-mPdL1Rjy",
        "colab_type": "code",
        "colab": {}
      },
      "source": [
        "import sklearn.preprocessing as preprocessing"
      ],
      "execution_count": 0,
      "outputs": []
    },
    {
      "cell_type": "code",
      "metadata": {
        "id": "onA-Odn32oAd",
        "colab_type": "code",
        "colab": {}
      },
      "source": [
        "standardizer = preprocessing.StandardScaler()"
      ],
      "execution_count": 0,
      "outputs": []
    },
    {
      "cell_type": "code",
      "metadata": {
        "id": "ab17CwfA2uro",
        "colab_type": "code",
        "colab": {}
      },
      "source": [
        "standardizer = standardizer.fit(cancer.data)"
      ],
      "execution_count": 0,
      "outputs": []
    },
    {
      "cell_type": "code",
      "metadata": {
        "id": "Buz2HClu202N",
        "colab_type": "code",
        "colab": {}
      },
      "source": [
        "breast_cancer_standardized = standardizer.transform(cancer.data)"
      ],
      "execution_count": 0,
      "outputs": []
    },
    {
      "cell_type": "code",
      "metadata": {
        "id": "dCL0bnmG29sY",
        "colab_type": "code",
        "colab": {
          "base_uri": "https://localhost:8080/",
          "height": 243
        },
        "outputId": "389d85cd-1c58-4101-d20a-577b10ede701"
      },
      "source": [
        "breast_cancer_standardized"
      ],
      "execution_count": 19,
      "outputs": [
        {
          "output_type": "execute_result",
          "data": {
            "text/plain": [
              "array([[ 1.09706398, -2.07333501,  1.26993369, ...,  2.29607613,\n",
              "         2.75062224,  1.93701461],\n",
              "       [ 1.82982061, -0.35363241,  1.68595471, ...,  1.0870843 ,\n",
              "        -0.24388967,  0.28118999],\n",
              "       [ 1.57988811,  0.45618695,  1.56650313, ...,  1.95500035,\n",
              "         1.152255  ,  0.20139121],\n",
              "       ...,\n",
              "       [ 0.70228425,  2.0455738 ,  0.67267578, ...,  0.41406869,\n",
              "        -1.10454895, -0.31840916],\n",
              "       [ 1.83834103,  2.33645719,  1.98252415, ...,  2.28998549,\n",
              "         1.91908301,  2.21963528],\n",
              "       [-1.80840125,  1.22179204, -1.81438851, ..., -1.74506282,\n",
              "        -0.04813821, -0.75120669]])"
            ]
          },
          "metadata": {
            "tags": []
          },
          "execution_count": 19
        }
      ]
    },
    {
      "cell_type": "code",
      "metadata": {
        "id": "GIzh_ZXP3BeH",
        "colab_type": "code",
        "colab": {
          "base_uri": "https://localhost:8080/",
          "height": 208
        },
        "outputId": "8158a893-8d0f-4dfd-c853-4b86446ef4ab"
      },
      "source": [
        "print('Mean of each feature after Standardization :\\n\\n')\n",
        "print(breast_cancer_standardized.mean(axis=0))"
      ],
      "execution_count": 20,
      "outputs": [
        {
          "output_type": "stream",
          "text": [
            "Mean of each feature after Standardization :\n",
            "\n",
            "\n",
            "[-3.16286735e-15 -6.53060890e-15 -7.07889127e-16 -8.79983452e-16\n",
            "  6.13217737e-15 -1.12036918e-15 -4.42138027e-16  9.73249991e-16\n",
            " -1.97167024e-15 -1.45363120e-15 -9.07641468e-16 -8.85349205e-16\n",
            "  1.77367396e-15 -8.29155139e-16 -7.54180940e-16 -3.92187747e-16\n",
            "  7.91789988e-16 -2.73946068e-16 -3.10823423e-16 -3.36676596e-16\n",
            " -2.33322442e-15  1.76367415e-15 -1.19802625e-15  5.04966114e-16\n",
            " -5.21317026e-15 -2.17478837e-15  6.85645643e-16 -1.41265636e-16\n",
            " -2.28956670e-15  2.57517109e-15]\n"
          ],
          "name": "stdout"
        }
      ]
    },
    {
      "cell_type": "code",
      "metadata": {
        "id": "sAKzYomD3jh_",
        "colab_type": "code",
        "colab": {
          "base_uri": "https://localhost:8080/",
          "height": 121
        },
        "outputId": "3aa6074f-7dc9-4122-a8a9-4a0624ec3776"
      },
      "source": [
        "print('\\nStd. of each feature after Standardization :\\n\\n')\n",
        "print(breast_cancer_standardized.std(axis=0))"
      ],
      "execution_count": 21,
      "outputs": [
        {
          "output_type": "stream",
          "text": [
            "\n",
            "Std. of each feature after Standardization :\n",
            "\n",
            "\n",
            "[1. 1. 1. 1. 1. 1. 1. 1. 1. 1. 1. 1. 1. 1. 1. 1. 1. 1. 1. 1. 1. 1. 1. 1.\n",
            " 1. 1. 1. 1. 1. 1.]\n"
          ],
          "name": "stdout"
        }
      ]
    },
    {
      "cell_type": "code",
      "metadata": {
        "id": "l_oLsWfe3qh0",
        "colab_type": "code",
        "colab": {
          "base_uri": "https://localhost:8080/",
          "height": 35
        },
        "outputId": "a36d4199-28ff-421c-f32e-784740d731f3"
      },
      "source": [
        "min_max_scaler = preprocessing.MinMaxScaler(feature_range=(0, 10)).fit(cancer.data)\n",
        "breast_cancer_minmaxscaled10 = min_max_scaler.transform(cancer.data)\n",
        "breast_cancer_minmaxscaled10.max()"
      ],
      "execution_count": 22,
      "outputs": [
        {
          "output_type": "execute_result",
          "data": {
            "text/plain": [
              "10.000000000000002"
            ]
          },
          "metadata": {
            "tags": []
          },
          "execution_count": 22
        }
      ]
    },
    {
      "cell_type": "code",
      "metadata": {
        "id": "r7AgNMzh4DH4",
        "colab_type": "code",
        "colab": {
          "base_uri": "https://localhost:8080/",
          "height": 35
        },
        "outputId": "014cbc80-bd8c-4f2e-9a59-a7b2d7e62127"
      },
      "source": [
        "max_abs_scaler = preprocessing.MaxAbsScaler().fit(cancer.data)\n",
        "\n",
        "breast_cancer_maxabsscaled = max_abs_scaler.transform(cancer.data)\n",
        "breast_cancer_maxabsscaled.min()"
      ],
      "execution_count": 23,
      "outputs": [
        {
          "output_type": "execute_result",
          "data": {
            "text/plain": [
              "0.0"
            ]
          },
          "metadata": {
            "tags": []
          },
          "execution_count": 23
        }
      ]
    },
    {
      "cell_type": "code",
      "metadata": {
        "id": "xHc88bUy7pWI",
        "colab_type": "code",
        "colab": {
          "base_uri": "https://localhost:8080/",
          "height": 35
        },
        "outputId": "252448d3-5148-4035-c109-346b78fe10fe"
      },
      "source": [
        "iris=datasets.load_iris()\n",
        "normalizer=preprocessing.Normalizer().fit(iris.data)\n",
        "iris_normalized=normalizer.transform(iris.data)\n",
        "print(iris_normalized.mean(axis=0))"
      ],
      "execution_count": 26,
      "outputs": [
        {
          "output_type": "stream",
          "text": [
            "[0.75140029 0.40517418 0.45478362 0.14107142]\n"
          ],
          "name": "stdout"
        }
      ]
    },
    {
      "cell_type": "code",
      "metadata": {
        "id": "EKCDa_TQ1WNV",
        "colab_type": "code",
        "colab": {
          "base_uri": "https://localhost:8080/",
          "height": 104
        },
        "outputId": "75ea2b3a-1ecc-4191-b1fc-cc2c2614c30c"
      },
      "source": [
        "print(iris.target)"
      ],
      "execution_count": 27,
      "outputs": [
        {
          "output_type": "stream",
          "text": [
            "[0 0 0 0 0 0 0 0 0 0 0 0 0 0 0 0 0 0 0 0 0 0 0 0 0 0 0 0 0 0 0 0 0 0 0 0 0\n",
            " 0 0 0 0 0 0 0 0 0 0 0 0 0 1 1 1 1 1 1 1 1 1 1 1 1 1 1 1 1 1 1 1 1 1 1 1 1\n",
            " 1 1 1 1 1 1 1 1 1 1 1 1 1 1 1 1 1 1 1 1 1 1 1 1 1 1 2 2 2 2 2 2 2 2 2 2 2\n",
            " 2 2 2 2 2 2 2 2 2 2 2 2 2 2 2 2 2 2 2 2 2 2 2 2 2 2 2 2 2 2 2 2 2 2 2 2 2\n",
            " 2 2]\n"
          ],
          "name": "stdout"
        }
      ]
    },
    {
      "cell_type": "code",
      "metadata": {
        "id": "Bnv-ik4I20XJ",
        "colab_type": "code",
        "colab": {
          "base_uri": "https://localhost:8080/",
          "height": 69
        },
        "outputId": "ca74288a-a656-449b-cb81-6314b7223fe6"
      },
      "source": [
        "iris.target=iris.target.reshape(-1,1)\n",
        "# print(iris.target)\n",
        "onehotencoder=preprocessing.OneHotEncoder().fit(iris.target)\n",
        "# iris_target_onehot=onehotencoder.transform(iris.target)\n",
        "print(onehotencoder.transform([[0]]).toarray())\n",
        "print(onehotencoder.transform([[1]]).toarray())\n",
        "print(onehotencoder.transform([[2]]).toarray())\n",
        "\n",
        "# print(iris_target_onehot.toarray([50]))\n",
        "# print(iris_target_onehot.toarray([100]))\n",
        "# print(iris_target_onehot.toarray([[0,50,100]]))"
      ],
      "execution_count": 39,
      "outputs": [
        {
          "output_type": "stream",
          "text": [
            "[[1. 0. 0.]]\n",
            "[[0. 1. 0.]]\n",
            "[[0. 0. 1.]]\n"
          ],
          "name": "stdout"
        }
      ]
    },
    {
      "cell_type": "code",
      "metadata": {
        "id": "V0ktWnqP3AxL",
        "colab_type": "code",
        "colab": {
          "base_uri": "https://localhost:8080/",
          "height": 35
        },
        "outputId": "ed2656f2-204c-4e84-8f9b-62ae3db4d2fe"
      },
      "source": [
        "import numpy as np\n",
        "from sklearn.impute import SimpleImputer\n",
        "iris.data[:50,:]=np.nan\n",
        "imp = SimpleImputer(missing_values=np.nan, strategy='mean')\n",
        "iris_imputed=imp.fit(iris.data)\n",
        "iris_imputed=imp.transform(iris.data)\n",
        "print(iris_imputed.mean(axis=0))"
      ],
      "execution_count": 51,
      "outputs": [
        {
          "output_type": "stream",
          "text": [
            "[6.262 2.872 4.906 1.676]\n"
          ],
          "name": "stdout"
        }
      ]
    },
    {
      "cell_type": "code",
      "metadata": {
        "id": "tUk_s_P76Vbt",
        "colab_type": "code",
        "colab": {}
      },
      "source": [
        ""
      ],
      "execution_count": 0,
      "outputs": []
    }
  ]
}